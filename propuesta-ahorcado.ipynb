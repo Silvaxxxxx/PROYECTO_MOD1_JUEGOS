{
 "cells": [
  {
   "cell_type": "code",
   "execution_count": null,
   "id": "e46e85e0",
   "metadata": {},
   "outputs": [
    {
     "name": "stdout",
     "output_type": "stream",
     "text": [
      "['n', 'o', ' ', 'c', 'u', 'e', 'n', 't', 'a', 'g', 'a', 't', 'o']\n",
      "Esta letra esta en la palabra secreta g\n"
     ]
    },
    {
     "ename": "AttributeError",
     "evalue": "'str' object has no attribute 'append'",
     "output_type": "error",
     "traceback": [
      "\u001b[1;31m---------------------------------------------------------------------------\u001b[0m",
      "\u001b[1;31mAttributeError\u001b[0m                            Traceback (most recent call last)",
      "Cell \u001b[1;32mIn[10], line 13\u001b[0m\n\u001b[0;32m     11\u001b[0m \u001b[38;5;28;01mif\u001b[39;00m caracter \u001b[38;5;129;01min\u001b[39;00m \u001b[38;5;124m'\u001b[39m\u001b[38;5;124mgato\u001b[39m\u001b[38;5;124m'\u001b[39m:\n\u001b[0;32m     12\u001b[0m     \u001b[38;5;28mprint\u001b[39m(\u001b[38;5;124m\"\u001b[39m\u001b[38;5;124mEsta letra esta en la palabra secreta\u001b[39m\u001b[38;5;124m\"\u001b[39m, caracter)\n\u001b[1;32m---> 13\u001b[0m     letras_in \u001b[38;5;241m=\u001b[39m caracter\u001b[38;5;241m.\u001b[39mappend()\n\u001b[0;32m     14\u001b[0m     \u001b[38;5;28mprint\u001b[39m(letras_in)\n\u001b[0;32m     16\u001b[0m \u001b[38;5;28;01melif\u001b[39;00m caracter \u001b[38;5;129;01mnot\u001b[39;00m \u001b[38;5;129;01min\u001b[39;00m \u001b[38;5;124m'\u001b[39m\u001b[38;5;124mgato\u001b[39m\u001b[38;5;124m'\u001b[39m:\n",
      "\u001b[1;31mAttributeError\u001b[0m: 'str' object has no attribute 'append'"
     ]
    }
   ],
   "source": [
    "import random\n",
    "#1. crear palabra, lista, (diccionario?)\n",
    "\n",
    "#2. sentencias control, igual o diferente, else (for?) 50-50 \n",
    "print(list('no cuenta' 'gato'))\n",
    "vidas = 10\n",
    "letras_in = []\n",
    "letras_out = []\n",
    "caracter = input('Inserta aquí tu letra')\n",
    "for x in 'gato':\n",
    "    if x == caracter:\n",
    "        print(\"Esta letra esta en la palabra secreta\", caracter)\n",
    "        letras_in = caracter.append()\n",
    "        print(letras_in)\n",
    "\n",
    "    elif caracter not in 'gato':\n",
    "        print(\"esta letra no está en la palabra secreta\", caracter)\n",
    "        vidas -= 1\n",
    "        print(\"Te quedas estas vidas\", vidas)\n",
    "        letras_out = caracter.append()\n",
    "        print(letras_out)\n",
    "\n",
    "    else:\n",
    "        print(\"valor no válido\")\n",
    "\n",
    "#3. recuento de vidas OK\n",
    "#4. crear lista letras usadas y letras que coinciden (print, append)\n",
    "#5. si ganas que aparezca en pantalla\n",
    "#6. si pierdes las vidas == 'Game over'\n",
    "#8 import choice para que el ordenador escoja la palabra aleatoriamente\n",
    "\n",
    "#7. crear palitos - rayas ahorcado"
   ]
  },
  {
   "cell_type": "code",
   "execution_count": 12,
   "id": "007134e6",
   "metadata": {},
   "outputs": [
    {
     "name": "stdout",
     "output_type": "stream",
     "text": [
      "esta letra no está en la palabra secreta 1\n",
      "Te quedas estas vidas 6\n"
     ]
    }
   ],
   "source": [
    "x = 'o'\n",
    "caracter = 1\n",
    "vidas = 7\n",
    "\n",
    "for x in 'gato':\n",
    "\n",
    "    if x == caracter:\n",
    "        print(\"Esta letra esta en la palabra secreta\", caracter)\n",
    "    elif x != caracter:\n",
    "        print(\"esta letra no está en la palabra secreta\", caracter)\n",
    "        vidas -= 1\n",
    "        print(\"Te quedas estas vidas\", vidas)\n",
    "        break\n",
    "        \n"
   ]
  },
  {
   "cell_type": "code",
   "execution_count": 11,
   "id": "779fc030",
   "metadata": {},
   "outputs": [
    {
     "name": "stdout",
     "output_type": "stream",
     "text": [
      "g\n",
      "a\n",
      "t\n",
      "o\n"
     ]
    }
   ],
   "source": [
    "caracter = input('Inserta aquí tu letra')\n",
    "for caracter in 'gato':\n",
    "    print(caracter)"
   ]
  },
  {
   "cell_type": "code",
   "execution_count": null,
   "id": "f37edc2c",
   "metadata": {},
   "outputs": [],
   "source": []
  },
  {
   "cell_type": "code",
   "execution_count": 11,
   "id": "d985d88a",
   "metadata": {},
   "outputs": [
    {
     "name": "stdout",
     "output_type": "stream",
     "text": [
      "['c', 'a', 'c', 't', 'u', 's']\n",
      "la palabra es orquidea\n",
      "la palabra es cactus\n",
      "la palabra es margarita\n",
      "margarita\n",
      "la palabra es margarita\n",
      "margarita\n"
     ]
    }
   ],
   "source": [
    "import random\n",
    "#separar carácteres for\n",
    "palabras = ['cactus', 'orquidea', 'limonero', 'margarita']\n",
    "\n",
    "print(list('cactus'))\n",
    "\n",
    "for escoger in palabras:\n",
    "        escoger= random.choice(list(palabras))\n",
    "        print(\"la palabra es\", escoger)\n",
    "        if i in escoger:\n",
    "                print(i)\n",
    "                \n",
    "\n",
    "\n",
    "\n"
   ]
  },
  {
   "cell_type": "code",
   "execution_count": 4,
   "id": "d832cdf0",
   "metadata": {},
   "outputs": [
    {
     "data": {
      "text/plain": [
       "3"
      ]
     },
     "execution_count": 4,
     "metadata": {},
     "output_type": "execute_result"
    }
   ],
   "source": [
    "palabra_secreta = 'gato'\n",
    "lista_secreta = ['*', '*', '*', '*']\n",
    "palabra_secreta.index('o')"
   ]
  },
  {
   "cell_type": "code",
   "execution_count": 6,
   "id": "6740e4e3",
   "metadata": {},
   "outputs": [
    {
     "name": "stdout",
     "output_type": "stream",
     "text": [
      "***o\n"
     ]
    }
   ],
   "source": [
    "lista_secreta[3] = 'o'\n",
    "print(''.join(lista_secreta))\n"
   ]
  },
  {
   "cell_type": "code",
   "execution_count": 7,
   "id": "8985c5a4",
   "metadata": {},
   "outputs": [],
   "source": [
    "x = '''0\n",
    "       I\n",
    "       /\\\\'''"
   ]
  },
  {
   "cell_type": "code",
   "execution_count": 8,
   "id": "6b76026d",
   "metadata": {},
   "outputs": [
    {
     "name": "stdout",
     "output_type": "stream",
     "text": [
      "0\n",
      "       I\n",
      "       /\\\n"
     ]
    }
   ],
   "source": [
    "print(x)"
   ]
  }
 ],
 "metadata": {
  "kernelspec": {
   "display_name": "base",
   "language": "python",
   "name": "python3"
  },
  "language_info": {
   "codemirror_mode": {
    "name": "ipython",
    "version": 3
   },
   "file_extension": ".py",
   "mimetype": "text/x-python",
   "name": "python",
   "nbconvert_exporter": "python",
   "pygments_lexer": "ipython3",
   "version": "3.12.7"
  }
 },
 "nbformat": 4,
 "nbformat_minor": 5
}
