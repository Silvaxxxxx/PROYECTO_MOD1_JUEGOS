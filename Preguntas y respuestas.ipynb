{
 "cells": [
  {
   "cell_type": "code",
   "execution_count": 1,
   "id": "6b3965ec",
   "metadata": {},
   "outputs": [],
   "source": [
    "import random"
   ]
  },
  {
   "cell_type": "code",
   "execution_count": 2,
   "id": "a4a6d4b3",
   "metadata": {},
   "outputs": [
    {
     "name": "stdout",
     "output_type": "stream",
     "text": [
      "{'Francia': 'Paris', 'Alemania': 'Berlín', 'España': 'Madrid', 'Italia': 'Roma'}\n",
      "Tu pregunta es: Italia\n",
      "La respuesta es Roma\n",
      "Te quedan 2 intentos\n",
      "Te quedan 1 intentos\n",
      "Te quedan 0 intentos\n",
      "Has perdido el juego, la respuesta correcta era Roma\n"
     ]
    }
   ],
   "source": [
    "diccionario = {\"Francia\" : \"Paris\", \"Alemania\" : \"Berlín\", \"España\" : \"Madrid\", \"Italia\" : \"Roma\"}\n",
    "print(diccionario)\n",
    "\n",
    "preguntas = random.choice(list(diccionario))\n",
    "print(f\"Tu pregunta es:\", preguntas)\n",
    "\n",
    "respuesta_correcta = diccionario.get(preguntas)\n",
    "print(\"La respuesta es\",respuesta_correcta)\n",
    "\n",
    "intentos = 3\n",
    "\n",
    "while intentos != 0:\n",
    "    respuesta_usuaria = input('Introduce tu respuesta aquí').capitalize()\n",
    "    respuesta_correcta = diccionario.get(preguntas)\n",
    "    if respuesta_usuaria == respuesta_correcta:\n",
    "        print(\"Has contestado bien a la pregunta\")\n",
    "        break\n",
    "    elif diccionario[preguntas] == respuesta_correcta:\n",
    "         intentos -= 1 \n",
    "         print(\"Te quedan\", intentos, \"intentos\")\n",
    "        \n",
    "else:\n",
    "    intentos == 0\n",
    "    print(\"Has perdido el juego, la respuesta correcta era\", respuesta_correcta)"
   ]
  },
  {
   "cell_type": "code",
   "execution_count": 3,
   "id": "9848c538",
   "metadata": {},
   "outputs": [
    {
     "name": "stdout",
     "output_type": "stream",
     "text": [
      "Bienvenido al juego F\n"
     ]
    }
   ],
   "source": [
    "jugador_nombre = input(\"Escribe tu nombre aquí\").capitalize()\n",
    "print(\"Bienvenido al juego\", jugador_nombre)\n"
   ]
  },
  {
   "cell_type": "code",
   "execution_count": null,
   "id": "3043bbc4",
   "metadata": {},
   "outputs": [],
   "source": []
  },
  {
   "cell_type": "code",
   "execution_count": null,
   "id": "094f9e31",
   "metadata": {},
   "outputs": [
    {
     "name": "stdout",
     "output_type": "stream",
     "text": [
      "{'Francia': 'Paris', 'Alemania': 'Berlín', 'España': 'Madrid', 'Italia': 'Roma'}\n",
      "Tu pregunta es: Italia\n",
      "La respuesta es Roma\n",
      "Bienvenido al juego Bianca\n"
     ]
    }
   ],
   "source": [
    "diccionario = {\"Francia\" : \"Paris\", \"Alemania\" : \"Berlín\", \"España\" : \"Madrid\", \"Italia\" : \"Roma\"}\n",
    "print(diccionario)\n",
    "\n",
    "preguntas = random.choice(list(diccionario))\n",
    "print(f\"Tu pregunta es:\", preguntas)\n",
    "\n",
    "respuesta_correcta = diccionario.get(preguntas)\n",
    "print(\"La respuesta es\",respuesta_correcta)\n",
    "\n",
    "jugador_nombre = input(\"Escribe tu nombre aquí\").capitalize()\n",
    "print(\"Bienvenido al juego\", jugador_nombre)\n",
    "\n",
    "\n",
    "intentos = 3\n",
    "\n",
    "while intentos != 0:\n",
    "    respuesta_usuaria = input('Introduce tu respuesta aquí').capitalize()\n",
    "    respuesta_correcta = diccionario.get(preguntas)\n",
    "    if respuesta_usuaria == respuesta_correcta:\n",
    "        print(\"Has contestado bien a la pregunta\")\n",
    "        break\n",
    "    elif diccionario[preguntas] == respuesta_correcta:\n",
    "         intentos -= 1 \n",
    "         print(\"Te quedan\", intentos, \"intentos\")\n",
    "        \n",
    "else:\n",
    "    intentos == 0\n",
    "    print(\"Has perdido el juego, la respuesta correcta era\", respuesta_correcta)"
   ]
  }
 ],
 "metadata": {
  "kernelspec": {
   "display_name": "base",
   "language": "python",
   "name": "python3"
  },
  "language_info": {
   "codemirror_mode": {
    "name": "ipython",
    "version": 3
   },
   "file_extension": ".py",
   "mimetype": "text/x-python",
   "name": "python",
   "nbconvert_exporter": "python",
   "pygments_lexer": "ipython3",
   "version": "3.12.7"
  }
 },
 "nbformat": 4,
 "nbformat_minor": 5
}
