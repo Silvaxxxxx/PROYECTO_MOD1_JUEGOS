{
 "cells": [
  {
   "cell_type": "code",
   "execution_count": null,
   "id": "32f3fd1b",
   "metadata": {},
   "outputs": [],
   "source": [
    "import random\n",
    "\n",
    "preguntas = {'exterior' : 'cactus', 'aromática' : 'albahaca', 'relax' : 'lavanda', 'interior' : 'potus'}\n",
    "print(preguntas.setdefault('exterior'))\n",
    "\n",
    "pregunta_aleatoria = random.choice(list(preguntas))\n",
    "print(f\"esta es tu pregunta: {pregunta_aleatoria}\")\n",
    "\n",
    "vida = 3\n",
    "while vida != 0:\n",
    "    resp_jugador = input('Introduce tu respuesta aquí')\n",
    "    respuesta = preguntas.get(pregunta_aleatoria)\n",
    "    if input == respuesta:\n",
    "        print(\"Has contestado bien a la pregunta\")\n",
    "    else:\n",
    "        print(\"La respuesta no es correcta\")\n",
    "    break\n",
    "preguntas[pregunta_aleatoria] = respuesta\n",
    "print(respuesta)"
   ]
  }
 ],
 "metadata": {
  "language_info": {
   "name": "python"
  }
 },
 "nbformat": 4,
 "nbformat_minor": 5
}
