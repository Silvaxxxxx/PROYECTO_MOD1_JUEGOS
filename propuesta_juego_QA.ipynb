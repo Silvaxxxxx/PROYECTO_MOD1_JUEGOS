{
 "cells": [
  {
   "cell_type": "code",
   "execution_count": null,
   "id": "32f3fd1b",
   "metadata": {},
   "outputs": [
    {
     "name": "stdout",
     "output_type": "stream",
     "text": [
      "cactus\n",
      "esta es tu pregunta: aromática\n",
      "La respuesta no es correcta\n",
      "albahaca\n"
     ]
    }
   ],
   "source": [
    "import random \n",
    "\n",
    "preguntas = {'exterior' : 'cactus', 'aromática' : 'albahaca', 'relax' : 'lavanda', 'interior' : 'potus'}\n",
    "print(preguntas.setdefault(\"exterior\"))\n",
    "\n",
    "pregunta_aleatoria = random.choice(list(preguntas))\n",
    "print(f\"esta es tu pregunta: {pregunta_aleatoria}\")\n",
    "\n",
    "vida = 3\n",
    "while vida != 0:\n",
    "    resp_jugador = input('Introduce tu respuesta aquí')\n",
    "    respuesta = preguntas.get(pregunta_aleatoria)\n",
    "    if input == respuesta:\n",
    "        print(\"Has contestado bien a la pregunta\")\n",
    "    else:\n",
    "        print(\"La respuesta no es correcta\")\n",
    "    break\n",
    "preguntas[pregunta_aleatoria] = respuesta\n",
    "print(respuesta)"
   ]
  },
  {
   "cell_type": "code",
   "execution_count": 5,
   "id": "ee4bd6d7",
   "metadata": {},
   "outputs": [
    {
     "ename": "AttributeError",
     "evalue": "'dict' object has no attribute 'key'",
     "output_type": "error",
     "traceback": [
      "\u001b[1;31m---------------------------------------------------------------------------\u001b[0m",
      "\u001b[1;31mAttributeError\u001b[0m                            Traceback (most recent call last)",
      "Cell \u001b[1;32mIn[5], line 4\u001b[0m\n\u001b[0;32m      1\u001b[0m \u001b[38;5;28;01mimport\u001b[39;00m \u001b[38;5;21;01mrandom\u001b[39;00m \u001b[38;5;66;03m# para importar una libreria\u001b[39;00m\n\u001b[0;32m      3\u001b[0m preguntas \u001b[38;5;241m=\u001b[39m {\u001b[38;5;124m'\u001b[39m\u001b[38;5;124mexterior\u001b[39m\u001b[38;5;124m'\u001b[39m : \u001b[38;5;124m'\u001b[39m\u001b[38;5;124mcactus\u001b[39m\u001b[38;5;124m'\u001b[39m, \u001b[38;5;124m'\u001b[39m\u001b[38;5;124maromática\u001b[39m\u001b[38;5;124m'\u001b[39m : \u001b[38;5;124m'\u001b[39m\u001b[38;5;124malbahaca\u001b[39m\u001b[38;5;124m'\u001b[39m, \u001b[38;5;124m'\u001b[39m\u001b[38;5;124mrelax\u001b[39m\u001b[38;5;124m'\u001b[39m : \u001b[38;5;124m'\u001b[39m\u001b[38;5;124mlavanda\u001b[39m\u001b[38;5;124m'\u001b[39m, \u001b[38;5;124m'\u001b[39m\u001b[38;5;124minterior\u001b[39m\u001b[38;5;124m'\u001b[39m : \u001b[38;5;124m'\u001b[39m\u001b[38;5;124mpotus\u001b[39m\u001b[38;5;124m'\u001b[39m}\n\u001b[1;32m----> 4\u001b[0m \u001b[38;5;28mprint\u001b[39m(preguntas\u001b[38;5;241m.\u001b[39mkey())\n\u001b[0;32m      6\u001b[0m pregunta_aleatoria \u001b[38;5;241m=\u001b[39m random\u001b[38;5;241m.\u001b[39mchoice(\u001b[38;5;28mlist\u001b[39m(preguntas))\n\u001b[0;32m      7\u001b[0m \u001b[38;5;28mprint\u001b[39m(\u001b[38;5;124mf\u001b[39m\u001b[38;5;124m\"\u001b[39m\u001b[38;5;124mesta es tu pregunta: \u001b[39m\u001b[38;5;132;01m{\u001b[39;00mpregunta_aleatoria\u001b[38;5;132;01m}\u001b[39;00m\u001b[38;5;124m\"\u001b[39m)\n",
      "\u001b[1;31mAttributeError\u001b[0m: 'dict' object has no attribute 'key'"
     ]
    }
   ],
   "source": [
    "import random # para importar una libreria\n",
    "\n",
    "preguntas = {'exterior' : 'cactus', 'aromática' : 'albahaca', 'relax' : 'lavanda', 'interior' : 'potus'}\n",
    "print(preguntas.key())\n",
    "\n",
    "pregunta_aleatoria = random.choice(list(preguntas))\n",
    "print(f\"esta es tu pregunta: {pregunta_aleatoria}\")\n",
    "\n",
    "vida = 3\n",
    "while vida != 0:\n",
    "    resp_jugador = input('Introduce tu respuesta aquí')\n",
    "    respuesta = preguntas.get(pregunta_aleatoria)\n",
    "    if input == respuesta:\n",
    "        print(\"Has contestado bien a la pregunta\")\n",
    "    else:\n",
    "        print(\"La respuesta no es correcta\")\n",
    "    break\n",
    "preguntas[pregunta_aleatoria] = respuesta\n",
    "print(respuesta)"
   ]
  },
  {
   "cell_type": "code",
   "execution_count": 5,
   "id": "e54f5da2",
   "metadata": {},
   "outputs": [
    {
     "name": "stdout",
     "output_type": "stream",
     "text": [
      "{'Francia': 'Paris', 'Alemania': 'Berlín', 'España': 'Madrid', 'Italia': 'Roma'}\n"
     ]
    }
   ],
   "source": [
    "import random\n",
    "\n",
    "diccionario = {\"Francia\" : \"Paris\", \"Alemania\" : \"Berlín\", \"España\" : \"Madrid\", \"Italia\" : \"Roma\"}\n",
    "print(diccionario)"
   ]
  },
  {
   "cell_type": "code",
   "execution_count": 15,
   "id": "ed7fc23a",
   "metadata": {},
   "outputs": [
    {
     "ename": "NameError",
     "evalue": "name 'keys' is not defined",
     "output_type": "error",
     "traceback": [
      "\u001b[1;31m---------------------------------------------------------------------------\u001b[0m",
      "\u001b[1;31mNameError\u001b[0m                                 Traceback (most recent call last)",
      "Cell \u001b[1;32mIn[15], line 1\u001b[0m\n\u001b[1;32m----> 1\u001b[0m preguntas \u001b[38;5;241m=\u001b[39m random\u001b[38;5;241m.\u001b[39mchoice(keys(diccionario))\n",
      "\u001b[1;31mNameError\u001b[0m: name 'keys' is not defined"
     ]
    }
   ],
   "source": [
    "preguntas = random.choice(keys(diccionario))"
   ]
  }
 ],
 "metadata": {
  "kernelspec": {
   "display_name": "base",
   "language": "python",
   "name": "python3"
  },
  "language_info": {
   "codemirror_mode": {
    "name": "ipython",
    "version": 3
   },
   "file_extension": ".py",
   "mimetype": "text/x-python",
   "name": "python",
   "nbconvert_exporter": "python",
   "pygments_lexer": "ipython3",
   "version": "3.12.7"
  }
 },
 "nbformat": 4,
 "nbformat_minor": 5
}
