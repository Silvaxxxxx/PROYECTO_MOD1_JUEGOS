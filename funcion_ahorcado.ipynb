{
 "cells": [
  {
   "cell_type": "code",
   "execution_count": 1,
   "id": "a67df5d1",
   "metadata": {},
   "outputs": [],
   "source": [
    "def adivinar(palabra_secreta, lista_secreta, caracter):\n",
    "    for i in range(len(lista_secreta)): #se añade range para que sea iterable por toda la lista\n",
    "        if palabra_secreta[i] == caracter:\n",
    "            lista_secreta[i] = caracter\n",
    "            print(''.join(lista_secreta))\n",
    "             \n",
    "            \n",
    "        else:\n",
    "            print (\"el caracter no está en la palabra:\", caracter)\n",
    "             "
   ]
  },
  {
   "cell_type": "code",
   "execution_count": 4,
   "id": "0b0e1472",
   "metadata": {},
   "outputs": [
    {
     "name": "stdout",
     "output_type": "stream",
     "text": [
      "el caracter no está en la palabra: l\n",
      "el caracter no está en la palabra: l\n",
      "**l\n"
     ]
    }
   ],
   "source": [
    "palabra_secreta = 'sol'\n",
    "lista_secreta = ['*', '*','*']\n",
    "adivinar(palabra_secreta,lista_secreta, 'l')"
   ]
  }
 ],
 "metadata": {
  "kernelspec": {
   "display_name": "base",
   "language": "python",
   "name": "python3"
  },
  "language_info": {
   "codemirror_mode": {
    "name": "ipython",
    "version": 3
   },
   "file_extension": ".py",
   "mimetype": "text/x-python",
   "name": "python",
   "nbconvert_exporter": "python",
   "pygments_lexer": "ipython3",
   "version": "3.12.7"
  }
 },
 "nbformat": 4,
 "nbformat_minor": 5
}
