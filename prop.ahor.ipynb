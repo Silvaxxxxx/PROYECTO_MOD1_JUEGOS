{
 "cells": [
  {
   "cell_type": "code",
   "execution_count": null,
   "id": "c76effc3",
   "metadata": {},
   "outputs": [
    {
     "name": "stdout",
     "output_type": "stream",
     "text": [
      "Bienvenida al juego El Ahorcado!\n",
      "Adivina la palabra, tienes 7 intentos\n",
      "La palabra  *****\n",
      "letras usadas:  \n",
      "Intentos restantes: 7\n",
      "Correcto!!\n",
      "La palabra  *****\n",
      "letras usadas:  \n",
      "Intentos restantes: 7\n",
      "Esta letra no esta en la palabra, vuelve a intentar\n",
      "La palabra  *****\n",
      "letras usadas:  ,p\n",
      "Intentos restantes: 6\n"
     ]
    }
   ],
   "source": [
    "import random \n",
    "\n",
    "# Lista de palabras posibles \n",
    "lista_palabras = [\"cereza\":  , \"limon\", \"piña\", \"mango\"] \n",
    "palabra_secreta = random.choice(lista_palabras)\n",
    "\n",
    "#variables \n",
    "palabra_oculta = [\"*\"] * len(palabra_secreta)\n",
    "letras_usadas= []\n",
    "intentos= 7 \n",
    "\n",
    "print(\"Bienvenida al juego El Ahorcado!\")\n",
    "print(\"Adivina la palabra, tienes 7 intentos\")\n",
    "\n",
    "# Bucle\n",
    "while intentos > 0 and \"*\" in palabra_oculta: \n",
    "    print(\"La palabra \", \"\".join(palabra_oculta))\n",
    "    print(\"letras usadas: \",\",\".join(letras_usadas))\n",
    "    print(f\"Intentos restantes: {intentos}\")\n",
    "\n",
    "    letra = input(\"Elige una letra:\").lower()\n",
    "\n",
    "# Validaciones\n",
    "    if letra in letras_usadas:\n",
    "        print(\"Ya has usado esa letra antes, intenta de nuevo\")\n",
    "        continue\n",
    "    letras_usadas.append(letra)\n",
    "\n",
    "    #Comprobaciones\n",
    "    if letra in palabra_secreta:\n",
    "        for i in range(len(palabra_secreta)):\n",
    "            if palabra_secreta[i] == letra:\n",
    "                palabra_oculta[i] = letra\n",
    "            print(\"Correcto!!\")\n",
    "            break\n",
    "    else: \n",
    "         intentos -=1 \n",
    "         print(\"Esta letra no esta en la palabra, vuelve a intentar\")\n",
    "\n",
    "#Resultado\n",
    "if \"*\" not in palabra_oculta:\n",
    "    print(\"Felicidades! Has adivinado la palabra: \" , palabra_secreta)\n",
    "else:\n",
    "    print(\"Te has quedado sin intentos. La palabra secreta era:\", palabra_secreta)\n",
    "\n"
   ]
  }
 ],
 "metadata": {
  "kernelspec": {
   "display_name": "base",
   "language": "python",
   "name": "python3"
  },
  "language_info": {
   "codemirror_mode": {
    "name": "ipython",
    "version": 3
   },
   "file_extension": ".py",
   "mimetype": "text/x-python",
   "name": "python",
   "nbconvert_exporter": "python",
   "pygments_lexer": "ipython3",
   "version": "3.13.2"
  }
 },
 "nbformat": 4,
 "nbformat_minor": 5
}
