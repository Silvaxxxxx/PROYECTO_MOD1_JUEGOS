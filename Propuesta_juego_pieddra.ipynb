{
 "cells": [
  {
   "cell_type": "code",
   "execution_count": null,
   "id": "21662372",
   "metadata": {},
   "outputs": [],
   "source": [
    "import random\n",
    "jugador_nombre = input(\"Escribe tu nombre aquí\")\n",
    "print(\"Bienvenido al juego\", jugador_nombre)\n",
    "\n",
    "#input funciona, jugador funciona\n",
    "#crear condicionales if, elseif, else \n",
    "\n",
    "#crear input para escojer elemento\n",
    "jugador1 = input('Escoge tu elemento : Piedra, Papel o Tijera')\n",
    "print(\"Has escogido:\", jugador1)\n",
    "\n",
    "#crear bucle hasta que alguien gane\n",
    "elemento = ('Piedra', 'Papel', 'Tijeras')\n",
    "jugador2 = random.choice(elemento)\n",
    "#conditionals\n",
    "#falta hacer que se sume un punto cada vez que se gana una ronda\n",
    "\n",
    "\n",
    "#Piedra(probado a parte, OK)\n",
    "if jugador1 == 'Piedra':\n",
    "    if jugador2 == 'Tijera':\n",
    "        print('Has ganado un punto')\n",
    "    elif  jugador2 == 'Papel':\n",
    "        print('Has perdido la ronda')\n",
    "    else:\n",
    "        print('Has empatado')\n",
    "\n",
    "# Papel > Piedra (Probado a parte, OK)\n",
    "if jugador1 == 'Papel':\n",
    "    if jugador2 == 'Piedra':\n",
    "        print('Has ganado un punto')\n",
    "    elif jugador2 == 'Tijera':\n",
    "        print('Has perdido la ronda')\n",
    "    else:\n",
    "        print('Has empatado')\n",
    "\n",
    "# Tijera > Papel\n",
    "if jugador1 == 'Tijeras':\n",
    "    if jugador2 == 'Papel':\n",
    "        print('Has ganado un punto')\n",
    "    elif jugador2 == 'Piedra':\n",
    "        print('Has perdido la ronda')\n",
    "    else:\n",
    "        print('Has empatado')"
   ]
  }
 ],
 "metadata": {
  "language_info": {
   "name": "python"
  }
 },
 "nbformat": 4,
 "nbformat_minor": 5
}
