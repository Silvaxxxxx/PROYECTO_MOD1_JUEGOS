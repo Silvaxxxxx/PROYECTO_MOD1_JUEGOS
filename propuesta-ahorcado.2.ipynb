{
 "cells": [
  {
   "cell_type": "code",
   "execution_count": null,
   "id": "122cafe5",
   "metadata": {},
   "outputs": [],
   "source": [
    "palabra_secreta = 'gato'\n",
    "lista_secreta = ['*', '*', '*', '*']\n",
    "indice = palabra_secreta.index('o')"
   ]
  },
  {
   "cell_type": "code",
   "execution_count": 6,
   "id": "1743d608",
   "metadata": {},
   "outputs": [
    {
     "name": "stdout",
     "output_type": "stream",
     "text": [
      "***o\n"
     ]
    }
   ],
   "source": [
    "lista_secreta[3] = 'o'\n",
    "print(''.join(lista_secreta))\n"
   ]
  },
  {
   "cell_type": "code",
   "execution_count": 11,
   "id": "79ff36c5",
   "metadata": {},
   "outputs": [
    {
     "ename": "NameError",
     "evalue": "name 'caracter' is not defined",
     "output_type": "error",
     "traceback": [
      "\u001b[1;31m---------------------------------------------------------------------------\u001b[0m",
      "\u001b[1;31mNameError\u001b[0m                                 Traceback (most recent call last)",
      "Cell \u001b[1;32mIn[11], line 1\u001b[0m\n\u001b[1;32m----> 1\u001b[0m \u001b[38;5;28;01mif\u001b[39;00m caracter \u001b[38;5;129;01min\u001b[39;00m palabra_secreta:\n\u001b[0;32m      2\u001b[0m    caracter \u001b[38;5;241m=\u001b[39m lista_secreta[palabra_secreta\u001b[38;5;241m.\u001b[39mindex(\u001b[38;5;124m'\u001b[39m\u001b[38;5;124mo\u001b[39m\u001b[38;5;124m'\u001b[39m)] \n\u001b[0;32m      3\u001b[0m \u001b[38;5;28mprint\u001b[39m(\u001b[38;5;124m'\u001b[39m\u001b[38;5;124m'\u001b[39m\u001b[38;5;241m.\u001b[39mjoin(lista_secreta))\n",
      "\u001b[1;31mNameError\u001b[0m: name 'caracter' is not defined"
     ]
    }
   ],
   "source": [
    "if caracter in palabra_secreta:\n",
    "   caracter = lista_secreta[palabra_secreta.index('o')] \n",
    "print(''.join(lista_secreta))\n"
   ]
  },
  {
   "cell_type": "code",
   "execution_count": 12,
   "id": "2c70531b",
   "metadata": {},
   "outputs": [
    {
     "data": {
      "text/plain": [
       "3"
      ]
     },
     "execution_count": 12,
     "metadata": {},
     "output_type": "execute_result"
    }
   ],
   "source": [
    "palabra_secreta = 'gato'\n",
    "lista_secreta = ['*', '*', '*', '*']\n",
    "palabra_secreta.index('o')"
   ]
  },
  {
   "cell_type": "code",
   "execution_count": 13,
   "id": "f80e6146",
   "metadata": {},
   "outputs": [
    {
     "name": "stdout",
     "output_type": "stream",
     "text": [
      "***o\n"
     ]
    }
   ],
   "source": [
    "lista_secreta[3] = 'o'\n",
    "print(''.join(lista_secreta))"
   ]
  },
  {
   "cell_type": "code",
   "execution_count": null,
   "id": "d4ab3824",
   "metadata": {},
   "outputs": [],
   "source": [
    "def adivinar(palabra_secreta):\n",
    "    if caracter in lista_secreta:\n",
    "        palabra_secreta.index('o')\n",
    "        lista_secreta[3] = 'o'\n",
    "        print(''.join(lista_secreta))\n",
    "        return caracter\n",
    "    else:\n",
    "        print (\"el caracter no está en la palabra:\", caracter)"
   ]
  },
  {
   "cell_type": "code",
   "execution_count": 19,
   "id": "156ff846",
   "metadata": {},
   "outputs": [
    {
     "ename": "NameError",
     "evalue": "name 'caracter' is not defined",
     "output_type": "error",
     "traceback": [
      "\u001b[1;31m---------------------------------------------------------------------------\u001b[0m",
      "\u001b[1;31mNameError\u001b[0m                                 Traceback (most recent call last)",
      "Cell \u001b[1;32mIn[19], line 3\u001b[0m\n\u001b[0;32m      1\u001b[0m palabra_secreta2 \u001b[38;5;241m=\u001b[39m \u001b[38;5;124m'\u001b[39m\u001b[38;5;124msol\u001b[39m\u001b[38;5;124m'\u001b[39m\n\u001b[0;32m      2\u001b[0m lista_secreta2 \u001b[38;5;241m=\u001b[39m [\u001b[38;5;124m'\u001b[39m\u001b[38;5;124m*\u001b[39m\u001b[38;5;124m'\u001b[39m, \u001b[38;5;124m'\u001b[39m\u001b[38;5;124m*\u001b[39m\u001b[38;5;124m'\u001b[39m,\u001b[38;5;124m'\u001b[39m\u001b[38;5;124m*\u001b[39m\u001b[38;5;124m'\u001b[39m]\n\u001b[1;32m----> 3\u001b[0m adivinar(\u001b[38;5;124m'\u001b[39m\u001b[38;5;124mo\u001b[39m\u001b[38;5;124m'\u001b[39m)\n",
      "Cell \u001b[1;32mIn[17], line 2\u001b[0m, in \u001b[0;36madivinar\u001b[1;34m(palabra_secreta)\u001b[0m\n\u001b[0;32m      1\u001b[0m \u001b[38;5;28;01mdef\u001b[39;00m \u001b[38;5;21madivinar\u001b[39m(palabra_secreta):\n\u001b[1;32m----> 2\u001b[0m     \u001b[38;5;28;01mif\u001b[39;00m caracter \u001b[38;5;129;01min\u001b[39;00m lista_secreta:\n\u001b[0;32m      3\u001b[0m         palabra_secreta\u001b[38;5;241m.\u001b[39mindex(\u001b[38;5;124m'\u001b[39m\u001b[38;5;124mo\u001b[39m\u001b[38;5;124m'\u001b[39m)\n\u001b[0;32m      4\u001b[0m         lista_secreta[\u001b[38;5;241m3\u001b[39m] \u001b[38;5;241m=\u001b[39m \u001b[38;5;124m'\u001b[39m\u001b[38;5;124mo\u001b[39m\u001b[38;5;124m'\u001b[39m\n",
      "\u001b[1;31mNameError\u001b[0m: name 'caracter' is not defined"
     ]
    }
   ],
   "source": [
    "palabra_secreta2 = 'sol'\n",
    "lista_secreta2 = ['*', '*','*']\n",
    "adivinar('o')\n",
    "\n"
   ]
  },
  {
   "cell_type": "code",
   "execution_count": 27,
   "id": "4c9ba853",
   "metadata": {},
   "outputs": [],
   "source": [
    "def adivinar(palabra_secreta, lista_secreta, caracter):\n",
    "    if caracter in lista_secreta:\n",
    "        lista_secreta[palabra_secreta.index(caracter)] = caracter\n",
    "        print(''.join(lista_secreta))\n",
    "        return caracter\n",
    "    else:\n",
    "        print (\"el caracter no está en la palabra:\", caracter)"
   ]
  },
  {
   "cell_type": "code",
   "execution_count": 29,
   "id": "50fd02b2",
   "metadata": {},
   "outputs": [
    {
     "name": "stdout",
     "output_type": "stream",
     "text": [
      "el caracter no está en la palabra: o\n"
     ]
    }
   ],
   "source": [
    "palabra_secreta2 = 'sol'\n",
    "lista_secreta2 = ['*', '*','*']\n",
    "adivinar(palabra_secreta2, lista_secreta2,'o')\n"
   ]
  },
  {
   "cell_type": "code",
   "execution_count": null,
   "id": "170ae814",
   "metadata": {},
   "outputs": [],
   "source": [
    "def adivinar(palabra_secreta, lista_secreta, caracter):\n",
    "    for i in range(len(lista_secreta)): #se añade range para que sea iterable por toda la lista\n",
    "        if palabra_secreta[i] == caracter:\n",
    "            lista_secreta[i] = caracter\n",
    "            print(''.join(lista_secreta))\n",
    "            return \n",
    "            \n",
    "        else:\n",
    "            print (\"el caracter no está en la palabra:\", caracter)\n",
    "            return "
   ]
  },
  {
   "cell_type": "code",
   "execution_count": 41,
   "id": "1f64ceb9",
   "metadata": {},
   "outputs": [
    {
     "name": "stdout",
     "output_type": "stream",
     "text": [
      "s**\n"
     ]
    }
   ],
   "source": [
    "palabra_secreta = 'sol'\n",
    "lista_secreta = ['*', '*','*']\n",
    "adivinar(palabra_secreta,lista_secreta, 's')"
   ]
  }
 ],
 "metadata": {
  "kernelspec": {
   "display_name": "base",
   "language": "python",
   "name": "python3"
  },
  "language_info": {
   "codemirror_mode": {
    "name": "ipython",
    "version": 3
   },
   "file_extension": ".py",
   "mimetype": "text/x-python",
   "name": "python",
   "nbconvert_exporter": "python",
   "pygments_lexer": "ipython3",
   "version": "3.12.7"
  }
 },
 "nbformat": 4,
 "nbformat_minor": 5
}
