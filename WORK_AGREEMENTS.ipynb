{
 "cells": [
  {
   "cell_type": "markdown",
   "id": "7c95b359",
   "metadata": {},
   "source": [
    "## WORK AGREEMENTS\n",
    "\n",
    "- Comunicación asertiva\n",
    "- Paciencia (gestión de la frustración)\n",
    "- Proactividad (vamos a ponerle ganas!!)\n",
    "- Puntualidad \n",
    "- Respetar lo máximo posible el marco de trabajo (Dailys, roles, rituales)\n",
    "- Todo lo que tenga que ver con el proyecto debe estar en el REPOSITORIO\n",
    "- Asegurarnos de que TODAS tenemos claro los OBJETIVOS\n",
    "- Tener siempre el BACKLOG actualizado\n",
    "- Hacer dos FEEDBACKS semanales \n",
    "- Flexibilidad y empatía entre compañeras\n",
    "-\n",
    "\n"
   ]
  }
 ],
 "metadata": {
  "language_info": {
   "name": "python"
  }
 },
 "nbformat": 4,
 "nbformat_minor": 5
}
