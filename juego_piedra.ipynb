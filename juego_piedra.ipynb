{
 "cells": [
  {
   "cell_type": "markdown",
   "id": "ce9f0430",
   "metadata": {},
   "source": [
    "Preparación juego Piedra Papel Tijera"
   ]
  },
  {
   "cell_type": "code",
   "execution_count": null,
   "id": "23aab631",
   "metadata": {},
   "outputs": [
    {
     "name": "stdout",
     "output_type": "stream",
     "text": [
      "Bienvenido al juego bianca\n"
     ]
    },
    {
     "ename": "NameError",
     "evalue": "name 'Piedra' is not defined",
     "output_type": "error",
     "traceback": [
      "\u001b[1;31m---------------------------------------------------------------------------\u001b[0m",
      "\u001b[1;31mNameError\u001b[0m                                 Traceback (most recent call last)",
      "Cell \u001b[1;32mIn[1], line 6\u001b[0m\n\u001b[0;32m      2\u001b[0m \u001b[38;5;28mprint\u001b[39m(\u001b[38;5;124mf\u001b[39m\u001b[38;5;124m\"\u001b[39m\u001b[38;5;124mBienvenido al juego\u001b[39m\u001b[38;5;124m\"\u001b[39m, jugador1)\n\u001b[0;32m      4\u001b[0m \u001b[38;5;66;03m#input funciona, jugador funciona\u001b[39;00m\n\u001b[0;32m      5\u001b[0m \u001b[38;5;66;03m#crear condicionales if, elseif, else\u001b[39;00m\n\u001b[1;32m----> 6\u001b[0m Piedra \u001b[38;5;241m>\u001b[39m Tijera\n\u001b[0;32m      7\u001b[0m Papel \u001b[38;5;241m>\u001b[39m Piedra\n\u001b[0;32m      8\u001b[0m Tijera \u001b[38;5;241m>\u001b[39m Papel\n",
      "\u001b[1;31mNameError\u001b[0m: name 'Piedra' is not defined"
     ]
    }
   ],
   "source": [
    "#hola hola\n",
    "\n",
    "jugador1 = input(\"Escribe tu nombre aquí\")\n",
    "print(f\"Bienvenido al juego\", jugador1)\n",
    "\n",
    "#input funciona, jugador funciona\n",
    "#crear condicionales if, elseif, else\n",
    "Piedra > Tijera\n",
    "Papel > Piedra\n",
    "Tijera > Papel\n",
    "Piedra = Piedra\n",
    "Papel = Papel\n",
    "Tijera = Tijera"
   ]
  }
 ],
 "metadata": {
  "kernelspec": {
   "display_name": "base",
   "language": "python",
   "name": "python3"
  },
  "language_info": {
   "codemirror_mode": {
    "name": "ipython",
    "version": 3
   },
   "file_extension": ".py",
   "mimetype": "text/x-python",
   "name": "python",
   "nbconvert_exporter": "python",
   "pygments_lexer": "ipython3",
   "version": "3.12.7"
  }
 },
 "nbformat": 4,
 "nbformat_minor": 5
}
